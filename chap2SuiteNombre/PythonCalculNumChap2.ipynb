{
 "cells": [
  {
   "cell_type": "code",
   "execution_count": 10,
   "id": "82432fd2-215d-4299-93c3-3faab19d62e1",
   "metadata": {},
   "outputs": [],
   "source": [
    "#Méthode de Héron d'Alexandrie -> valeur approchée d'une racine carrée\n",
    "from math import*"
   ]
  },
  {
   "cell_type": "code",
   "execution_count": 17,
   "id": "8697a139-1d4e-4e6e-92c3-d870041b44eb",
   "metadata": {},
   "outputs": [
    {
     "name": "stdin",
     "output_type": "stream",
     "text": [
      "Valeur du nombre A 10\n",
      "Valeur de n ? 6\n"
     ]
    },
    {
     "name": "stdout",
     "output_type": "stream",
     "text": [
      "3.5\n",
      "3.178571428571429\n",
      "3.162319422150883\n",
      "3.1622776604441363\n",
      "3.162277660168379\n",
      "3.162277660168379\n"
     ]
    }
   ],
   "source": [
    "A = eval(input(\"Valeur du nombre A\"))\n",
    "n = eval(input(\"Valeur de n ?\"))\n",
    "u = A/2\n",
    "for i in range(1, n+1):\n",
    "    v = (u+A/u)/2\n",
    "    print (v)\n",
    "    u=v"
   ]
  },
  {
   "cell_type": "code",
   "execution_count": 18,
   "id": "3db39213-bddf-4a04-b7fd-632576ea4d62",
   "metadata": {},
   "outputs": [],
   "source": [
    "#Méthode de Héron d'Alexandrie -> valeur approchée d'une racine cubique"
   ]
  },
  {
   "cell_type": "code",
   "execution_count": 24,
   "id": "a266bdc7-3742-4182-ab66-066f7831ebb0",
   "metadata": {},
   "outputs": [
    {
     "name": "stdin",
     "output_type": "stream",
     "text": [
      "Valeur du nombre positif a ? 25\n"
     ]
    },
    {
     "name": "stdout",
     "output_type": "stream",
     "text": [
      "Valeur approchée de la racine cubique de  25  =  2.924017715742833\n",
      "Valeur exacte selon python =  2.924017738212866\n"
     ]
    }
   ],
   "source": [
    "a = eval(input(\"Valeur du nombre positif a ?\"))\n",
    "u = a/3\n",
    "v = u/2+a/(2*u*u)\n",
    "e = abs(u-v)\n",
    "while e>0.0000001:\n",
    "    u=v/2+a/(2*v*v)\n",
    "    e = abs(v-u)\n",
    "    v=u\n",
    "print(\"Valeur approchée de la racine cubique de \",a,\" = \" ,v)\n",
    "print(\"Valeur exacte selon python = \", a**(1/3))"
   ]
  },
  {
   "cell_type": "code",
   "execution_count": null,
   "id": "18e70b86-727a-4b6e-b7ba-cd9420b2a193",
   "metadata": {},
   "outputs": [],
   "source": []
  },
  {
   "cell_type": "markdown",
   "id": "66a2d19f-a403-4d2e-ba65-f1a622afcd1a",
   "metadata": {},
   "source": [
    "Les suites"
   ]
  },
  {
   "cell_type": "code",
   "execution_count": 35,
   "id": "3960507b-dbb0-4ba4-8918-d09db1924fa2",
   "metadata": {},
   "outputs": [
    {
     "name": "stdin",
     "output_type": "stream",
     "text": [
      "Choisissez une valeur pour  n :  10\n"
     ]
    },
    {
     "name": "stdout",
     "output_type": "stream",
     "text": [
      "terme de rang 1  =  0.5\n",
      "terme de rang 2  =  1.0\n",
      "terme de rang 3  =  1.25\n",
      "terme de rang 4  =  1.4\n",
      "terme de rang 5  =  1.5\n",
      "terme de rang 6  =  1.5714285714285714\n",
      "terme de rang 7  =  1.625\n",
      "terme de rang 8  =  1.6666666666666667\n",
      "terme de rang 9  =  1.7\n",
      "terme de rang 10  =  1.7272727272727273\n"
     ]
    }
   ],
   "source": [
    "from math import*\n",
    "def f(n):\n",
    "    return (2*n-1)/(n+1)\n",
    "n = eval(input(\"Choisissez une valeur pour  n : \"))\n",
    "for i in range(1, n+1):\n",
    "    print(\"terme de rang\",i,\" = \",f(i))"
   ]
  },
  {
   "cell_type": "code",
   "execution_count": 32,
   "id": "5c48fe56-85aa-41df-aba5-6ecfe0f9f838",
   "metadata": {},
   "outputs": [],
   "source": [
    "# la même qu'avant -> mais au lieu de faire la suite on a directement le terme"
   ]
  },
  {
   "cell_type": "code",
   "execution_count": 34,
   "id": "24728c72-2987-493d-b662-d76f9312a4ea",
   "metadata": {},
   "outputs": [
    {
     "name": "stdin",
     "output_type": "stream",
     "text": [
      "Choisissez n :  1000\n"
     ]
    },
    {
     "name": "stdout",
     "output_type": "stream",
     "text": [
      "Le terme de rang 1000  est  1.997002997002997\n"
     ]
    }
   ],
   "source": [
    "from math import*\n",
    "def f(n):\n",
    "    return (2*n-1)/(n+1)\n",
    "n = eval(input(\"Choisissez n : \"))\n",
    "print(\"Le terme de rang\", n, \" est \", f(n))"
   ]
  },
  {
   "cell_type": "code",
   "execution_count": null,
   "id": "13108238-06b6-47f6-b8e6-12f06f55e222",
   "metadata": {},
   "outputs": [],
   "source": []
  },
  {
   "cell_type": "markdown",
   "id": "f3629114-d9b2-4524-b5a1-6e5ba3d481b6",
   "metadata": {},
   "source": [
    "Suite Récurrentes de 1ere ordre"
   ]
  },
  {
   "cell_type": "code",
   "execution_count": 50,
   "id": "0633d03e-bd0d-4c1d-ab8b-cd0024d7cbaa",
   "metadata": {},
   "outputs": [
    {
     "name": "stdin",
     "output_type": "stream",
     "text": [
      "choisir l'entier n : 6\n"
     ]
    },
    {
     "name": "stdout",
     "output_type": "stream",
     "text": [
      "rang 1   :   1\n",
      "rang  2  :  1.4142135623730951\n",
      "rang  3  :  1.5537739740300374\n",
      "rang  4  :  1.5980531824786175\n",
      "rang  5  :  1.6118477541252516\n",
      "rang  6  :  1.616121206508117\n"
     ]
    }
   ],
   "source": [
    "from math import*\n",
    "def f(x):\n",
    "    return sqrt(1+x)\n",
    "n=eval(input(\"choisir l'entier n :\"))\n",
    "u=1\n",
    "print(\"rang 1   :\", \" \", u)\n",
    "for i in range(2, n+1):\n",
    "    v=f(u)\n",
    "    print(\"rang \", i, \" : \", v)\n",
    "    u=v"
   ]
  },
  {
   "cell_type": "code",
   "execution_count": null,
   "id": "4c08813b-bb5b-4420-97c7-34f3738e661e",
   "metadata": {},
   "outputs": [],
   "source": []
  },
  {
   "cell_type": "markdown",
   "id": "4a24b036-fc3d-4804-8b5a-c41f12cf1f8c",
   "metadata": {},
   "source": [
    "Suite Récurrentes de 2eme ordre"
   ]
  },
  {
   "cell_type": "code",
   "execution_count": 52,
   "id": "b50b9b50-6850-4008-b40e-343cdf0304dd",
   "metadata": {},
   "outputs": [
    {
     "name": "stdin",
     "output_type": "stream",
     "text": [
      "L'entier n :  56\n"
     ]
    },
    {
     "name": "stdout",
     "output_type": "stream",
     "text": [
      "Terme de rang 1 : 0\n",
      "terme de rang 2 : 1\n",
      "terme de rang  3   0.5\n",
      "terme de rang  4   0.75\n",
      "terme de rang  5   0.625\n",
      "terme de rang  6   0.6875\n",
      "terme de rang  7   0.65625\n",
      "terme de rang  8   0.671875\n",
      "terme de rang  9   0.6640625\n",
      "terme de rang  10   0.66796875\n",
      "terme de rang  11   0.666015625\n",
      "terme de rang  12   0.6669921875\n",
      "terme de rang  13   0.66650390625\n",
      "terme de rang  14   0.666748046875\n",
      "terme de rang  15   0.6666259765625\n",
      "terme de rang  16   0.66668701171875\n",
      "terme de rang  17   0.666656494140625\n",
      "terme de rang  18   0.6666717529296875\n",
      "terme de rang  19   0.6666641235351562\n",
      "terme de rang  20   0.6666679382324219\n",
      "terme de rang  21   0.6666660308837891\n",
      "terme de rang  22   0.6666669845581055\n",
      "terme de rang  23   0.6666665077209473\n",
      "terme de rang  24   0.6666667461395264\n",
      "terme de rang  25   0.6666666269302368\n",
      "terme de rang  26   0.6666666865348816\n",
      "terme de rang  27   0.6666666567325592\n",
      "terme de rang  28   0.6666666716337204\n",
      "terme de rang  29   0.6666666641831398\n",
      "terme de rang  30   0.6666666679084301\n",
      "terme de rang  31   0.666666666045785\n",
      "terme de rang  32   0.6666666669771075\n",
      "terme de rang  33   0.6666666665114462\n",
      "terme de rang  34   0.6666666667442769\n",
      "terme de rang  35   0.6666666666278616\n",
      "terme de rang  36   0.6666666666860692\n",
      "terme de rang  37   0.6666666666569654\n",
      "terme de rang  38   0.6666666666715173\n",
      "terme de rang  39   0.6666666666642413\n",
      "terme de rang  40   0.6666666666678793\n",
      "terme de rang  41   0.6666666666660603\n",
      "terme de rang  42   0.6666666666669698\n",
      "terme de rang  43   0.6666666666665151\n",
      "terme de rang  44   0.6666666666667425\n",
      "terme de rang  45   0.6666666666666288\n",
      "terme de rang  46   0.6666666666666856\n",
      "terme de rang  47   0.6666666666666572\n",
      "terme de rang  48   0.6666666666666714\n",
      "terme de rang  49   0.6666666666666643\n",
      "terme de rang  50   0.6666666666666679\n",
      "terme de rang  51   0.6666666666666661\n",
      "terme de rang  52   0.666666666666667\n",
      "terme de rang  53   0.6666666666666665\n",
      "terme de rang  54   0.6666666666666667\n",
      "terme de rang  55   0.6666666666666666\n",
      "terme de rang  56   0.6666666666666667\n"
     ]
    }
   ],
   "source": [
    "n = eval(input(\"L'entier n : \"))\n",
    "u=0\n",
    "v=1\n",
    "print(\"Terme de rang 1 :\", u)\n",
    "print(\"terme de rang 2 :\", v)\n",
    "for i in range(3, n+1):\n",
    "    w = (u+v)/2\n",
    "    print(\"terme de rang \", i,\" \", w)\n",
    "    u=v\n",
    "    v=w\n"
   ]
  },
  {
   "cell_type": "code",
   "execution_count": null,
   "id": "d7584f83-d19c-45af-8b45-e5044c2eb6be",
   "metadata": {},
   "outputs": [],
   "source": []
  },
  {
   "cell_type": "code",
   "execution_count": null,
   "id": "c83c6d0b-605a-4588-b01f-d7c74f809085",
   "metadata": {},
   "outputs": [],
   "source": []
  },
  {
   "cell_type": "markdown",
   "id": "6f3d7910-14b3-4c98-9ea2-8825a1a61c9d",
   "metadata": {},
   "source": [
    "La suite de Fibonacci"
   ]
  },
  {
   "cell_type": "code",
   "execution_count": null,
   "id": "2c596d2a-0cfb-47bc-8291-c4ff83b021ad",
   "metadata": {},
   "outputs": [
    {
     "name": "stdin",
     "output_type": "stream",
     "text": [
      "Choisir l'entier n = nombre de mois :  10\n"
     ]
    },
    {
     "name": "stdout",
     "output_type": "stream",
     "text": [
      "[1, 1, 2, 3, 5, 8, 13, 21, 34, 55]\n"
     ]
    }
   ],
   "source": [
    "#Programme itératif\n",
    "u, v =1, 1\n",
    "liste=[u, v]\n",
    "n = eval(input(\"Choisir l'entier n = nombre de mois : \"))\n",
    "for i in range(3, n+1):\n",
    "    w=u+v\n",
    "    liste = liste + [w]\n",
    "    u=v\n",
    "    v=w\n",
    "print(liste)"
   ]
  },
  {
   "cell_type": "code",
   "execution_count": 58,
   "id": "93d18591-031d-4e38-b5ad-6c6098a9d073",
   "metadata": {},
   "outputs": [
    {
     "name": "stdin",
     "output_type": "stream",
     "text": [
      "Choisir l'entier n = nombre de mois :  10\n"
     ]
    },
    {
     "name": "stdout",
     "output_type": "stream",
     "text": [
      "[2, 3, 5, 8, 13, 21, 34, 55]\n"
     ]
    }
   ],
   "source": [
    "#Programme récursif\n",
    "liste=[]\n",
    "def fibo(n):\n",
    "    if n==1 or n==2:\n",
    "        return 1\n",
    "    else:\n",
    "        return fibo(n-1) + fibo(n-2)\n",
    "n = eval(input(\"Choisir l'entier n = nombre de mois : \"))\n",
    "for i in range(3, n+1):\n",
    "    liste = liste + [fibo(i)]\n",
    "print(liste)\n",
    "    "
   ]
  },
  {
   "cell_type": "markdown",
   "id": "45b4ad23-7455-40d8-b8a2-d0f8640992e2",
   "metadata": {},
   "source": [
    "Etude du rapport de deux termes successifs dela suite de Fibonacci"
   ]
  },
  {
   "cell_type": "code",
   "execution_count": null,
   "id": "02f98f44-e0af-4d8f-a3b5-735891f288d0",
   "metadata": {},
   "outputs": [
    {
     "name": "stdin",
     "output_type": "stream",
     "text": [
      "Choisir l'entier n = nombre de mois :  25\n"
     ]
    },
    {
     "name": "stdout",
     "output_type": "stream",
     "text": [
      "[2.0, 1.5, 1.6666666666666667, 1.6, 1.625, 1.6153846153846154, 1.619047619047619, 1.6176470588235294, 1.6181818181818182, 1.6179775280898876, 1.6180555555555556, 1.6180257510729614, 1.6180371352785146, 1.618032786885246, 1.618034447821682, 1.6180338134001253, 1.618034055727554, 1.6180339631667064, 1.6180339985218033, 1.618033985017358, 1.6180339901755971, 1.618033988205325, 1.618033988957902]\n"
     ]
    }
   ],
   "source": [
    "#rapport de deux termes successifs = r=Un+1/Un\n",
    "# avec le modèle itératif\n",
    "u,v=1,1\n",
    "liste=[]\n",
    "n = eval(input(\"Choisir l'entier n = nombre de mois : \"))\n",
    "for i in range(3, n+1):\n",
    "    w = u + v\n",
    "    r = w/v\n",
    "    liste = liste + [r]\n",
    "    u=v\n",
    "    v=w\n",
    "print(liste)"
   ]
  },
  {
   "cell_type": "code",
   "execution_count": 65,
   "id": "18eec9aa-578a-4f7c-9c0e-2f336a28240f",
   "metadata": {},
   "outputs": [],
   "source": [
    "#r =? ((sqrt5)+1)/2 => nombre d'or"
   ]
  },
  {
   "cell_type": "code",
   "execution_count": null,
   "id": "23577526-fa3f-48c7-9c10-df7a646bdadb",
   "metadata": {},
   "outputs": [],
   "source": []
  },
  {
   "cell_type": "markdown",
   "id": "22753fac-95ca-4d6a-891a-0235559bbd26",
   "metadata": {},
   "source": [
    "Etude du nombre |r-phi|"
   ]
  },
  {
   "cell_type": "code",
   "execution_count": 66,
   "id": "be31e452-2479-4b04-96d6-f47d13f2fcfc",
   "metadata": {},
   "outputs": [],
   "source": [
    "# on définit un nombre epsilon et on regarde quand le rapport sera inférieur pour la première fois"
   ]
  },
  {
   "cell_type": "code",
   "execution_count": 72,
   "id": "8ab65f48-6555-493b-86bd-50c9100ab6d1",
   "metadata": {},
   "outputs": [
    {
     "name": "stdin",
     "output_type": "stream",
     "text": [
      "valeur du nombre epsilon :  0.000001\n"
     ]
    },
    {
     "name": "stdout",
     "output_type": "stream",
     "text": [
      "n= 17\n"
     ]
    }
   ],
   "source": [
    "from math import*\n",
    "u,v=1,1\n",
    "e = eval(input(\"valeur du nombre epsilon : \"))\n",
    "dr=0\n",
    "n=2\n",
    "while dr==0:\n",
    "    w=u+v\n",
    "    r=w/v\n",
    "    n=n+1\n",
    "    if abs(r-(sqrt(5)+1)/2)<e:\n",
    "        dr=1\n",
    "    else:\n",
    "        u=v\n",
    "        v=w\n",
    "print(\"n=\", n)"
   ]
  },
  {
   "cell_type": "code",
   "execution_count": null,
   "id": "417b0aa4-cb59-4ba5-b155-caa82e524f31",
   "metadata": {},
   "outputs": [],
   "source": []
  },
  {
   "cell_type": "markdown",
   "id": "97336e09-6327-4e59-83af-36e50559db7f",
   "metadata": {},
   "source": [
    "La formule de Binet pour avoir directement le nième nombre de Fibonacci"
   ]
  },
  {
   "cell_type": "code",
   "execution_count": 80,
   "id": "288ac336-9e7f-45a9-91d8-3db04bab2c8f",
   "metadata": {},
   "outputs": [
    {
     "name": "stdin",
     "output_type": "stream",
     "text": [
      "Valeur de n ? 6\n"
     ]
    },
    {
     "name": "stdout",
     "output_type": "stream",
     "text": [
      "8.000000000000002\n"
     ]
    }
   ],
   "source": [
    "from math import*\n",
    "n = eval(input(\"Valeur de n ?\"))\n",
    "a,b= 1+sqrt(5), 1-sqrt(5)\n",
    "F=(((a**n)-(b**n))/2**n)/sqrt(5)\n",
    "print(F)"
   ]
  },
  {
   "cell_type": "code",
   "execution_count": null,
   "id": "ee2a8981-c937-443e-b8df-87f0f3e96a28",
   "metadata": {},
   "outputs": [],
   "source": []
  },
  {
   "cell_type": "markdown",
   "id": "b17a4825-2ec8-4b54-9478-f23d52f25fb6",
   "metadata": {},
   "source": [
    "Calcul du nombre e"
   ]
  },
  {
   "cell_type": "code",
   "execution_count": 104,
   "id": "8d2dc80e-6ff3-4b72-a9ea-3f08dddacd90",
   "metadata": {},
   "outputs": [
    {
     "name": "stdin",
     "output_type": "stream",
     "text": [
      "Donner le nombre n : 14\n"
     ]
    },
    {
     "name": "stdout",
     "output_type": "stream",
     "text": [
      "87178291200\n",
      "Somme =  3.7182818284467594\n"
     ]
    }
   ],
   "source": [
    "from math import*\n",
    "n = eval(input(\"Donner le nombre n :\"))\n",
    "print(factorial(n))\n",
    "u, s = 1, 1\n",
    "for k in range(1, n+1):\n",
    "    u,s = u/k, s+u\n",
    "print(\"Somme = \",s)"
   ]
  },
  {
   "cell_type": "code",
   "execution_count": 105,
   "id": "d3eefbd5-9f65-4383-b778-447567b42663",
   "metadata": {
    "jp-MarkdownHeadingCollapsed": true,
    "tags": []
   },
   "outputs": [
    {
     "name": "stdout",
     "output_type": "stream",
     "text": [
      "6\n"
     ]
    }
   ],
   "source": [
    "print(factorial(3))"
   ]
  },
  {
   "cell_type": "code",
   "execution_count": null,
   "id": "dec8a81b-bfbb-42e5-85d2-270325e2873e",
   "metadata": {},
   "outputs": [],
   "source": []
  }
 ],
 "metadata": {
  "kernelspec": {
   "display_name": "Python 3 (ipykernel)",
   "language": "python",
   "name": "python3"
  },
  "language_info": {
   "codemirror_mode": {
    "name": "ipython",
    "version": 3
   },
   "file_extension": ".py",
   "mimetype": "text/x-python",
   "name": "python",
   "nbconvert_exporter": "python",
   "pygments_lexer": "ipython3",
   "version": "3.9.7"
  }
 },
 "nbformat": 4,
 "nbformat_minor": 5
}
