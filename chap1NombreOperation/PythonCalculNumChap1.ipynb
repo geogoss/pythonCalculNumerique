{
 "cells": [
  {
   "cell_type": "code",
   "execution_count": 73,
   "id": "3ad0b9cc-fd66-49f2-bf12-3c40ae5a7d24",
   "metadata": {},
   "outputs": [
    {
     "name": "stdin",
     "output_type": "stream",
     "text": [
      "Quelle est la valeur de l'entier n ?  78\n"
     ]
    }
   ],
   "source": [
    "# Point 1 : nombres et opérations\n",
    "# Petite fonction pour voir si un nombre est pair ou impair\n",
    "n = eval (input(\"Quelle est la valeur de l'entier n ? \" ))\n"
   ]
  },
  {
   "cell_type": "code",
   "execution_count": 74,
   "id": "dfbffd9e-bb41-452c-a593-bc0086a17c59",
   "metadata": {},
   "outputs": [
    {
     "name": "stdout",
     "output_type": "stream",
     "text": [
      "78  est pair\n"
     ]
    }
   ],
   "source": [
    "r = n%2\n",
    "if r==0:\n",
    "    print(n, \" est pair\")\n",
    "else :\n",
    "    print(n, \" est impair\")"
   ]
  },
  {
   "cell_type": "code",
   "execution_count": 14,
   "id": "f8d43080-78ea-4f04-9473-5a2bb9154224",
   "metadata": {},
   "outputs": [],
   "source": [
    "# Les Fractions"
   ]
  },
  {
   "cell_type": "code",
   "execution_count": 25,
   "id": "5f67aa2d-b292-44d6-9b43-352a7d7d83ad",
   "metadata": {},
   "outputs": [
    {
     "name": "stdout",
     "output_type": "stream",
     "text": [
      "1/5\n",
      "5/2\n",
      "23/20\n",
      "3/14\n",
      "8/15\n",
      "7/2\n"
     ]
    }
   ],
   "source": [
    "# Appeler le module fraction\n",
    "from fractions import*\n",
    "print (Fraction(500,2500))\n",
    "print (Fraction(50,20))\n",
    "print (Fraction(2,5) + Fraction(3,4))\n",
    "print (Fraction(5,7) - Fraction(1,2))\n",
    "print (Fraction(4,5) * Fraction(2,3))\n",
    "print (5 * Fraction(7,10))"
   ]
  },
  {
   "cell_type": "code",
   "execution_count": 28,
   "id": "35103642-183e-428b-b471-97fbe56b351a",
   "metadata": {},
   "outputs": [
    {
     "name": "stdout",
     "output_type": "stream",
     "text": [
      "15/11\n"
     ]
    }
   ],
   "source": [
    "from fractions import*\n",
    "F = 1 + Fraction(1,2 + Fraction(3,4))\n",
    "print (F)"
   ]
  },
  {
   "cell_type": "code",
   "execution_count": 29,
   "id": "5c765c57-ed2a-4e7c-b4f8-f960cb563ca9",
   "metadata": {},
   "outputs": [
    {
     "name": "stdout",
     "output_type": "stream",
     "text": [
      "11/8\n"
     ]
    }
   ],
   "source": [
    "# Voici ce qu'il mettait dans le livre mais c'est une erreur car on arrive pas à la bonne réponse\n",
    "# 1 + (1/(2+3/4)) = 15/11\n",
    "from fractions import*\n",
    "B = Fraction(1+Fraction(1,Fraction(2,Fraction(3,4))))\n",
    "print (B)"
   ]
  },
  {
   "cell_type": "code",
   "execution_count": 37,
   "id": "8a28c554-b0ba-46ce-8505-dc1c82378109",
   "metadata": {},
   "outputs": [
    {
     "name": "stdin",
     "output_type": "stream",
     "text": [
      "Choisissez une fraction ? Fraction(7,6)\n"
     ]
    }
   ],
   "source": [
    "# Pour retourner le numérateur ou le dénominateur d'une fraction\n",
    "from fractions import*\n",
    "F=eval(input(\"Choisissez une fraction ?\"))\n",
    "# Attention de donner la fraction sous forme de \" Fraction(4,5)"
   ]
  },
  {
   "cell_type": "code",
   "execution_count": 38,
   "id": "b454de72-05d8-4d36-b861-a4d0e7a40db1",
   "metadata": {},
   "outputs": [
    {
     "name": "stdout",
     "output_type": "stream",
     "text": [
      "Numérateur de F =  7\n",
      "Dénominateur de F =  6\n"
     ]
    }
   ],
   "source": [
    "n = F.numerator\n",
    "d = F.denominator\n",
    "print(\"Numérateur de F = \", n)\n",
    "print(\"Dénominateur de F = \", d)"
   ]
  },
  {
   "cell_type": "code",
   "execution_count": 40,
   "id": "fd81e3a1-7ae0-4be2-9d9a-5c0e88002712",
   "metadata": {},
   "outputs": [],
   "source": [
    "# Point 2 : Représentation des nombres"
   ]
  },
  {
   "cell_type": "code",
   "execution_count": 44,
   "id": "36c1b326-eb6d-4764-b4f0-4242db2fb8a5",
   "metadata": {},
   "outputs": [
    {
     "name": "stdin",
     "output_type": "stream",
     "text": [
      "Valeur de l'entier naturel N ? 1548\n"
     ]
    }
   ],
   "source": [
    "# Représentation binaire des entiers naturels\n",
    "from math import*\n",
    "N=eval(input(\"Valeur de l'entier naturel N ?\"))"
   ]
  },
  {
   "cell_type": "code",
   "execution_count": 45,
   "id": "06a5a452-7373-4ef4-acc7-cc4cf6e08a16",
   "metadata": {},
   "outputs": [
    {
     "name": "stdout",
     "output_type": "stream",
     "text": [
      "[1, 1, 0, 0, 0, 0, 0, 1, 1, 0, 0]\n"
     ]
    }
   ],
   "source": [
    "n=int(log(N)/log(2))\n",
    "binaire = []\n",
    "for i in range (n, -1, -1):\n",
    "    q=N//(2**i)\n",
    "    r=N%(2**i)\n",
    "    binaire = binaire+ [q]\n",
    "    N=r\n",
    "print (binaire)"
   ]
  },
  {
   "cell_type": "code",
   "execution_count": 47,
   "id": "e82fd30f-fc1b-4984-b5a3-4c5e3040717e",
   "metadata": {},
   "outputs": [
    {
     "name": "stdout",
     "output_type": "stream",
     "text": [
      "0b11000001100\n"
     ]
    }
   ],
   "source": [
    "print(bin(1548))"
   ]
  },
  {
   "cell_type": "code",
   "execution_count": 48,
   "id": "87d3cb85-f56a-4256-ad59-73d63ed2db3c",
   "metadata": {},
   "outputs": [],
   "source": [
    "# En base 2, Python travaille avec des nombres dyadiques, c'est à dire des nombres réels dont la \n",
    "#représentation en base 2 ne possède qu'un nombre fini de chiffre"
   ]
  },
  {
   "cell_type": "code",
   "execution_count": 49,
   "id": "f4e3f897-9965-489a-be6a-c6c8fbf3f4d9",
   "metadata": {},
   "outputs": [
    {
     "data": {
      "text/plain": [
       "int"
      ]
     },
     "execution_count": 49,
     "metadata": {},
     "output_type": "execute_result"
    }
   ],
   "source": [
    "# Nombre à virgule à l'aide de flottants\n",
    "x=10\n",
    "type(x)\n"
   ]
  },
  {
   "cell_type": "code",
   "execution_count": 50,
   "id": "071c856b-ef98-4396-8f49-704761ab383b",
   "metadata": {},
   "outputs": [
    {
     "data": {
      "text/plain": [
       "float"
      ]
     },
     "execution_count": 50,
     "metadata": {},
     "output_type": "execute_result"
    }
   ],
   "source": [
    "x=5.647\n",
    "type(x)"
   ]
  },
  {
   "cell_type": "code",
   "execution_count": 51,
   "id": "5ede353e-b7f4-41d4-8720-98201995a0c7",
   "metadata": {},
   "outputs": [
    {
     "name": "stdout",
     "output_type": "stream",
     "text": [
      "Ce calcul est faux\n",
      "Valeur de c*c :  5.000000000000001\n",
      "Valeur de a*a + b*b :  5.0\n"
     ]
    }
   ],
   "source": [
    "#Petite parenthèse sur la précision des calcul -> attention avec les tests d'égalité avec les flottants\n",
    "from math import*\n",
    "a,b,c=sqrt(2), sqrt(3), sqrt(5)\n",
    "if c*c == a*a + b*b:\n",
    "    print(\"Ce calcul est exact\")\n",
    "else:\n",
    "    print(\"Ce calcul est faux\")\n",
    "print(\"Valeur de c*c : \", c*c)\n",
    "print(\"Valeur de a*a + b*b : \", a*a + b*b)"
   ]
  },
  {
   "cell_type": "code",
   "execution_count": 52,
   "id": "a3a4dcd1-97a6-4bbf-b08f-137980817f8d",
   "metadata": {},
   "outputs": [],
   "source": [
    "# Point 3 : Fonctions disponibles dans Python"
   ]
  },
  {
   "cell_type": "code",
   "execution_count": 69,
   "id": "7ae253b8-a6d5-49e0-a072-fb06827d5bd1",
   "metadata": {},
   "outputs": [
    {
     "data": {
      "text/plain": [
       "2"
      ]
     },
     "execution_count": 69,
     "metadata": {},
     "output_type": "execute_result"
    }
   ],
   "source": [
    "round(2.5)"
   ]
  },
  {
   "cell_type": "code",
   "execution_count": 68,
   "id": "a4b47b84-9d1d-49a1-b202-ebdab7d68392",
   "metadata": {},
   "outputs": [
    {
     "data": {
      "text/plain": [
       "11"
      ]
     },
     "execution_count": 68,
     "metadata": {},
     "output_type": "execute_result"
    }
   ],
   "source": [
    "floor(11.9)"
   ]
  },
  {
   "cell_type": "code",
   "execution_count": 70,
   "id": "622fd0e9-1992-44e1-b687-b6b521f544cd",
   "metadata": {},
   "outputs": [
    {
     "data": {
      "text/plain": [
       "0.6989700043360189"
      ]
     },
     "execution_count": 70,
     "metadata": {},
     "output_type": "execute_result"
    }
   ],
   "source": [
    "from math import*\n",
    "log10(5)"
   ]
  },
  {
   "cell_type": "code",
   "execution_count": 72,
   "id": "2454507e-a85c-40a6-8bc5-d4b7353c713a",
   "metadata": {},
   "outputs": [
    {
     "ename": "NameError",
     "evalue": "name 'random' is not defined",
     "output_type": "error",
     "traceback": [
      "\u001b[1;31m---------------------------------------------------------------------------\u001b[0m",
      "\u001b[1;31mNameError\u001b[0m                                 Traceback (most recent call last)",
      "\u001b[1;32m~\\AppData\\Local\\Temp/ipykernel_22468/102035847.py\u001b[0m in \u001b[0;36m<module>\u001b[1;34m\u001b[0m\n\u001b[0;32m      1\u001b[0m \u001b[1;32mfrom\u001b[0m \u001b[0mmath\u001b[0m \u001b[1;32mimport\u001b[0m\u001b[1;33m*\u001b[0m\u001b[1;33m\u001b[0m\u001b[1;33m\u001b[0m\u001b[0m\n\u001b[1;32m----> 2\u001b[1;33m \u001b[0mrandom\u001b[0m\u001b[1;33m(\u001b[0m\u001b[1;33m)\u001b[0m\u001b[1;33m\u001b[0m\u001b[1;33m\u001b[0m\u001b[0m\n\u001b[0m",
      "\u001b[1;31mNameError\u001b[0m: name 'random' is not defined"
     ]
    }
   ],
   "source": [
    "from math import*\n",
    "random()"
   ]
  },
  {
   "cell_type": "code",
   "execution_count": 75,
   "id": "c82209fb-13bd-43ee-ba28-5f540d53857d",
   "metadata": {},
   "outputs": [
    {
     "name": "stdout",
     "output_type": "stream",
     "text": [
      "Pour x= 0  f(x) = 1.0\n",
      "Pour x= 1  f(x) = 1.4142135623730951\n",
      "Pour x= 2  f(x) = 2.23606797749979\n",
      "Pour x= 3  f(x) = 3.1622776601683795\n",
      "Pour x= 4  f(x) = 4.123105625617661\n",
      "Pour x= 5  f(x) = 5.0990195135927845\n",
      "Pour x= 6  f(x) = 6.082762530298219\n",
      "Pour x= 7  f(x) = 7.0710678118654755\n",
      "Pour x= 8  f(x) = 8.06225774829855\n",
      "Pour x= 9  f(x) = 9.055385138137417\n"
     ]
    }
   ],
   "source": [
    "#Définition d'une fonction f telle que f(x)=sqrt(1 + x²)\n",
    "from math import*\n",
    "def f(x):\n",
    "    return sqrt(x*x+1)\n",
    "#Utilisation de la fonction f pour constituer une table de valeurs\n",
    "x=0\n",
    "for i in range(1, 11):\n",
    "    y=f(x)\n",
    "    print(\"Pour x=\", x, \" f(x) =\", y)\n",
    "    x=x+1"
   ]
  },
  {
   "cell_type": "code",
   "execution_count": 76,
   "id": "5fad0082-648a-4c1a-817b-93bede8d755d",
   "metadata": {},
   "outputs": [],
   "source": [
    "#Définir une fonction par une suite d'actions"
   ]
  },
  {
   "cell_type": "code",
   "execution_count": 91,
   "id": "e4cabc22-2aad-44c3-8ceb-6f3efb583681",
   "metadata": {},
   "outputs": [
    {
     "name": "stdout",
     "output_type": "stream",
     "text": [
      "Pour x =  -5  f(x) =  16\n",
      "Pour x =  -4  f(x) =  13\n",
      "Pour x =  -3  f(x) =  10\n",
      "Pour x =  -2  f(x) =  7\n",
      "Pour x =  -1  f(x) =  4\n",
      "Pour x =  0  f(x) =  1\n",
      "Pour x =  1  f(x) =  2\n",
      "Pour x =  2  f(x) =  5\n",
      "Pour x =  3  f(x) =  8\n",
      "Pour x =  4  f(x) =  11\n"
     ]
    }
   ],
   "source": [
    "from math import*\n",
    "def f(x):\n",
    "    if x>=1/3:\n",
    "        return 3*x-1\n",
    "    else:\n",
    "        return 1-3*x\n",
    "x=-5\n",
    "for i in range (1,11):\n",
    "    y=f(x)\n",
    "    print(\"Pour x = \", x, \" f(x) = \", y)\n",
    "    x=x+1"
   ]
  },
  {
   "cell_type": "code",
   "execution_count": 78,
   "id": "cbe31efe-e2ee-4e18-a304-941793792ff0",
   "metadata": {},
   "outputs": [],
   "source": [
    "# Le mot réservé lambda"
   ]
  },
  {
   "cell_type": "code",
   "execution_count": 80,
   "id": "430175b4-ad2a-4de5-9856-216d2c7bace4",
   "metadata": {},
   "outputs": [
    {
     "name": "stdin",
     "output_type": "stream",
     "text": [
      "valeur de x ? 48\n"
     ]
    }
   ],
   "source": [
    "from math import*\n",
    "f = lambda x: sqrt(x+1)\n",
    "x=eval(input(\"valeur de x ?\"))"
   ]
  },
  {
   "cell_type": "code",
   "execution_count": 84,
   "id": "0b7016de-6326-43dd-bcca-63b6135772fe",
   "metadata": {},
   "outputs": [
    {
     "name": "stdout",
     "output_type": "stream",
     "text": [
      "Pour x = 48  f(x) = 7.0\n"
     ]
    }
   ],
   "source": [
    "y=f(x)\n",
    "print(\"Pour x =\", x, \" f(x) =\", y)"
   ]
  },
  {
   "cell_type": "code",
   "execution_count": 85,
   "id": "fbf9a343-ab28-4fa8-9c4a-bee282c8dc49",
   "metadata": {},
   "outputs": [],
   "source": [
    "# Définition et emploi de 2 fonctions affines"
   ]
  },
  {
   "cell_type": "code",
   "execution_count": 88,
   "id": "228cd1d7-6b19-4e6d-8dd5-baf285d2219f",
   "metadata": {},
   "outputs": [
    {
     "name": "stdout",
     "output_type": "stream",
     "text": [
      "Valeurs de f(x) :\n",
      "-11\n",
      "-9\n",
      "-7\n",
      "-5\n",
      "-3\n",
      "-1\n",
      "1\n",
      "3\n"
     ]
    }
   ],
   "source": [
    "f = lambda x: 2*x-3\n",
    "g = lambda x: 5-3*x\n",
    "print(\"Valeurs de f(x) :\")\n",
    "for i in range(-4,4):\n",
    "    print(f(i))"
   ]
  },
  {
   "cell_type": "code",
   "execution_count": 89,
   "id": "a827c644-71cf-468d-8a03-4750f156a7f3",
   "metadata": {},
   "outputs": [
    {
     "name": "stdout",
     "output_type": "stream",
     "text": [
      "Valeurs de g(x) :\n",
      "17\n",
      "14\n",
      "11\n",
      "8\n",
      "5\n",
      "2\n",
      "-1\n",
      "-4\n"
     ]
    }
   ],
   "source": [
    "print(\"Valeurs de g(x) :\")\n",
    "for i in range(-4,4):\n",
    "    print(g(i))"
   ]
  },
  {
   "cell_type": "code",
   "execution_count": 92,
   "id": "c0975a9f-692c-43eb-acfc-faddf5a02e9a",
   "metadata": {},
   "outputs": [],
   "source": [
    "#Point 4 : Les factorielles"
   ]
  },
  {
   "cell_type": "code",
   "execution_count": 97,
   "id": "dbaa702b-d627-4a7a-9baf-7f75e9382076",
   "metadata": {},
   "outputs": [
    {
     "name": "stdin",
     "output_type": "stream",
     "text": [
      "Donne la valeur de l'entier n ? 9\n"
     ]
    }
   ],
   "source": [
    "# Factorielle avec programme itératif\n",
    "def factorielle (n) :\n",
    "    f=1\n",
    "    for i in range(1, n+1) :\n",
    "        f=f*i\n",
    "    return f\n",
    "n= eval(input(\"Donne la valeur de l'entier n ?\"))"
   ]
  },
  {
   "cell_type": "code",
   "execution_count": 98,
   "id": "fbb50b75-8dd3-4f8a-acc0-94e03cd95f99",
   "metadata": {},
   "outputs": [
    {
     "name": "stdout",
     "output_type": "stream",
     "text": [
      "factorielle de  9 = 362880\n"
     ]
    }
   ],
   "source": [
    "print(\"factorielle de \", n, \"=\", factorielle(n))"
   ]
  },
  {
   "cell_type": "code",
   "execution_count": 99,
   "id": "7d5899ad-1471-470e-aaf1-75d4456dac6b",
   "metadata": {},
   "outputs": [
    {
     "name": "stdout",
     "output_type": "stream",
     "text": [
      "9 ! = 362880\n"
     ]
    }
   ],
   "source": [
    "print(n,\"! =\", factorielle(n))"
   ]
  },
  {
   "cell_type": "code",
   "execution_count": 100,
   "id": "a5c23428-1b8f-4ed3-b109-f0c773fdf1b2",
   "metadata": {},
   "outputs": [
    {
     "name": "stdin",
     "output_type": "stream",
     "text": [
      "Donne la valeur de l'entier n ? 6\n"
     ]
    }
   ],
   "source": [
    "# Factorielle avec programme récursif\n",
    "def fact(n):\n",
    "    if n==0:\n",
    "        return 1\n",
    "    else :\n",
    "        return (n*fact(n-1))\n",
    "n=eval(input(\"Donne la valeur de l'entier n ?\"))"
   ]
  },
  {
   "cell_type": "code",
   "execution_count": 101,
   "id": "4f96a9bc-39e1-4de9-a135-165aac233aa0",
   "metadata": {},
   "outputs": [
    {
     "name": "stdout",
     "output_type": "stream",
     "text": [
      "factorielle de  6 = 720\n",
      "6 ! = 720\n"
     ]
    }
   ],
   "source": [
    "print(\"factorielle de \", n, \"=\", factorielle(n))\n",
    "print(n,\"! =\", factorielle(n))"
   ]
  },
  {
   "cell_type": "code",
   "execution_count": 102,
   "id": "ebf1b96a-3030-4eef-b513-2b8630183a05",
   "metadata": {},
   "outputs": [],
   "source": [
    "# Les tours de Hannoï\n",
    "# Edouard Lucas, mathématiciens Français spécialiste des jeux 1883\n",
    "# règles : voir wikipedia"
   ]
  },
  {
   "cell_type": "code",
   "execution_count": 26,
   "id": "6e0cf40b-99f1-4693-8fd8-edec7d4aa0e6",
   "metadata": {},
   "outputs": [
    {
     "name": "stdin",
     "output_type": "stream",
     "text": [
      "Choisissez le nombre de disques ? 3\n"
     ]
    }
   ],
   "source": [
    "def deplace(n,A,B,C):\n",
    "    if n==1:\n",
    "        print(\"De\", A, \"vers\", C)\n",
    "    else:\n",
    "        deplace(n-1,A,B,C)\n",
    "        deplace(1,A,C,B)\n",
    "        deplace(n-1, B,C,A)\n",
    "     \n",
    "A = 1\n",
    "B = 2\n",
    "C = 3\n",
    "# Le programme indique les déplacements de disques quand le nombre n des disques est choisi\n",
    "n=int(input(\"Choisissez le nombre de disques ?\"))"
   ]
  },
  {
   "cell_type": "code",
   "execution_count": 27,
   "id": "b94e1023-b1e5-4ca6-87bb-2fd9da731030",
   "metadata": {},
   "outputs": [
    {
     "name": "stdout",
     "output_type": "stream",
     "text": [
      "De 1 vers 3\n",
      "De 1 vers 2\n",
      "De 2 vers 1\n",
      "De 1 vers 2\n",
      "De 2 vers 1\n",
      "De 2 vers 3\n",
      "De 3 vers 2\n"
     ]
    }
   ],
   "source": [
    "deplace(n,A,B,C)"
   ]
  },
  {
   "cell_type": "code",
   "execution_count": null,
   "id": "a4433b76-5a0a-4eb1-b931-e81cac89f71b",
   "metadata": {},
   "outputs": [],
   "source": []
  },
  {
   "cell_type": "code",
   "execution_count": null,
   "id": "0d5035bd-f81d-4e70-bb7e-67c8b6ec1977",
   "metadata": {},
   "outputs": [],
   "source": []
  }
 ],
 "metadata": {
  "kernelspec": {
   "display_name": "Python 3 (ipykernel)",
   "language": "python",
   "name": "python3"
  },
  "language_info": {
   "codemirror_mode": {
    "name": "ipython",
    "version": 3
   },
   "file_extension": ".py",
   "mimetype": "text/x-python",
   "name": "python",
   "nbconvert_exporter": "python",
   "pygments_lexer": "ipython3",
   "version": "3.9.7"
  }
 },
 "nbformat": 4,
 "nbformat_minor": 5
}
